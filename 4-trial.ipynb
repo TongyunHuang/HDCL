{
 "cells": [
  {
   "cell_type": "code",
   "execution_count": 43,
   "metadata": {},
   "outputs": [],
   "source": [
    "# Python import library\n",
    "import matplotlib.pyplot as plt\n",
    "from sklearn.cluster import KMeans\n",
    "import numpy as np\n",
    "# Self_define import file\n",
    "import process_data as pcs"
   ]
  },
  {
   "cell_type": "code",
   "execution_count": 50,
   "metadata": {},
   "outputs": [
    {
     "name": "stdout",
     "output_type": "stream",
     "text": [
      "35\n",
      "p1\n",
      "38\n",
      "p2\n",
      "60\n",
      "nw1\n",
      "33\n",
      "nw2\n"
     ]
    }
   ],
   "source": [
    "data_dict = pcs.get302Data()"
   ]
  },
  {
   "cell_type": "code",
   "execution_count": 51,
   "metadata": {},
   "outputs": [
    {
     "data": {
      "image/png": "[encoded data removed]",
      "text/plain": [
       "<Figure size 432x288 with 4 Axes>"
      ]
     },
     "metadata": {
      "needs_background": "light"
     },
     "output_type": "display_data"
    }
   ],
   "source": [
    "fig, axs = plt.subplots(2, 2)\n",
    "axs[0, 0].scatter(data_dict['302']['p1']['sdnn'], data_dict['302']['p1']['lfhf'], \n",
    "                  c='white', marker='o', edgecolor='black', s=50)\n",
    "axs[0, 0].set_title('P1: (SDNN, LF/HF)')\n",
    "axs[0, 1].scatter(data_dict['302']['p2']['sdnn'], data_dict['302']['p2']['lfhf'],\n",
    "                 c='white', marker='o', edgecolor='red', s=50)\n",
    "axs[0, 1].set_title('P2: (SDNN, LF/HF)')\n",
    "axs[1, 0].scatter(data_dict['302']['nw1']['sdnn'], data_dict['302']['nw1']['lfhf'],\n",
    "                 c='white', marker='o', edgecolor='green', s=50)\n",
    "axs[1, 0].set_title('NW1: (SDNN, LF/HF)')\n",
    "axs[1, 1].scatter(data_dict['302']['nw2']['sdnn'], data_dict['302']['nw2']['lfhf'],\n",
    "                 c='white', marker='o', edgecolor='blue', s=50)\n",
    "axs[1, 1].set_title('NW1: (SDNN, LF/HF)')\n",
    "for ax in axs.flat:\n",
    "    ax.set(xlabel='x-label', ylabel='y-label')\n",
    "\n",
    "# Hide x labels and tick labels for top plots and y ticks for right plots.\n",
    "for ax in axs.flat:\n",
    "    ax.label_outer()"
   ]
  },
  {
   "cell_type": "code",
   "execution_count": 66,
   "metadata": {},
   "outputs": [
    {
     "name": "stdout",
     "output_type": "stream",
     "text": [
      "[[40.80628086  3.51034165]\n",
      " [40.44128105  3.56578255]\n",
      " [40.589183    3.60946558]\n",
      " [41.44660049  3.40349377]\n",
      " [41.5627553   3.47250009]\n",
      " [40.72466511  3.4686242 ]\n",
      " [40.77493793  3.32795115]\n",
      " [41.51985308  4.18790433]\n",
      " [40.46765489  4.18513755]\n",
      " [40.49057751  4.24231998]\n",
      " [40.08186571  4.23314366]\n",
      " [40.06750814  4.22756498]\n",
      " [40.51112214  4.17075968]\n",
      " [40.38505096  4.27075805]\n",
      " [42.19158502  2.04987555]\n",
      " [40.74609993  2.13290071]\n",
      " [41.02349494  2.15283624]\n",
      " [41.77735786  2.19767263]\n",
      " [41.14619804  2.17893169]\n",
      " [41.00752272  2.17482498]\n",
      " [40.03462524  2.14775316]\n",
      " [40.83265525  2.18560079]\n",
      " [40.44746217  2.13291838]\n",
      " [40.95847014  2.15580405]\n",
      " [40.97953913  2.16089436]\n",
      " [40.99570195  2.15015617]\n",
      " [40.99363172  2.15878955]\n",
      " [40.30343347  4.27398932]\n",
      " [41.31193002  2.16050218]\n",
      " [40.66226128  4.24092453]\n",
      " [35.99732025  3.43401869]]\n",
      "[[40.80628086  3.51034165]\n",
      " [40.44128105  3.56578255]\n",
      " [40.589183    3.60946558]\n",
      " [41.44660049  3.40349377]\n",
      " [41.5627553   3.47250009]\n",
      " [40.72466511  3.4686242 ]\n",
      " [40.77493793  3.32795115]\n",
      " [41.51985308  4.18790433]\n",
      " [40.46765489  4.18513755]\n",
      " [40.49057751  4.24231998]\n",
      " [40.08186571  4.23314366]\n",
      " [40.06750814  4.22756498]\n",
      " [40.51112214  4.17075968]\n",
      " [40.38505096  4.27075805]\n",
      " [40.30343347  4.27398932]\n",
      " [40.66226128  4.24092453]\n",
      " [35.99732025  3.43401869]]\n"
     ]
    }
   ],
   "source": [
    "p1_km = KMeans(n_clusters=2, init='random',n_init=10, max_iter=300, tol=1e-04, random_state=0)\n",
    "p1_arr = data_dict['302']['p1']['sd_lf']\n",
    "p1_clus = p1_km.fit_predict(p1_arr)\n",
    "delete_arr = []\n",
    "if len(p1_arr[p1_clus == 0]) < len(p1_arr[p1_clus == 1]):\n",
    "    p1_arr = p1_array[p1_clus == 1]\n",
    "else:\n",
    "    p1_arr = p1_array[p1_clus == 0]\n",
    "print(p1_arr)\n",
    "p11_km = KMeans(n_clusters=2, init='random',n_init=10, max_iter=300, tol=1e-04, random_state=0)\n",
    "p1_cluster = p11_km.fit_predict(p1_arr)\n",
    "print(p1_arr[p1_cluster ==  0])\n",
    "\n",
    "p2_km = KMeans(n_clusters=2, init='random',n_init=10, max_iter=300, tol=1e-04, random_state=0)\n",
    "p2_array = data_dict['302']['p2']['sd_lf']\n",
    "p2_cluster = p2_km.fit_predict(p2_array)\n",
    "\n",
    "nw1_km = KMeans(n_clusters=2, init='random',n_init=10, max_iter=300, tol=1e-04, random_state=0)\n",
    "nw1_array = data_dict['302']['nw1']['sd_lf']\n",
    "nw1_cluster = nw1_km.fit_predict(nw1_array)\n",
    "\n",
    "nw2_km = KMeans(n_clusters=2, init='random',n_init=10, max_iter=300, tol=1e-04, random_state=0)\n",
    "nw2_array = data_dict['302']['nw2']['sd_lf']\n",
    "nw2_cluster = nw2_km.fit_predict(nw2_array)"
   ]
  },
  {
   "cell_type": "code",
   "execution_count": null,
   "metadata": {},
   "outputs": [],
   "source": []
  },
  {
   "cell_type": "code",
   "execution_count": 68,
   "metadata": {},
   "outputs": [
    {
     "data": {
      "text/plain": [
       "<matplotlib.collections.PathCollection at 0x7fc243cd1d50>"
      ]
     },
     "execution_count": 68,
     "metadata": {},
     "output_type": "execute_result"
    },
    {
     "data": {
      "image/png": "[encoded data removed]",
      "text/plain": [
       "<Figure size 432x288 with 1 Axes>"
      ]
     },
     "metadata": {
      "needs_background": "light"
     },
     "output_type": "display_data"
    }
   ],
   "source": [
    "plt.scatter(p1_arr[p1_cluster == 0, 0], p1_arr[p1_cluster == 0, 1],\n",
    "    s=50, c='lightgreen',marker='s', edgecolor='black',label='cluster 1')\n",
    "plt.scatter(p1_arr[p1_cluster == 1, 0], p1_arr[p1_cluster == 1, 1],\n",
    "    s=50, c='orange',marker='o', edgecolor='black',label='cluster 2')\n",
    "plt.scatter(p11_km.cluster_centers_[:, 0], p11_km.cluster_centers_[:, 1],\n",
    "    s=250, marker='*',c='red', edgecolor='black',label='centroids')\n"
   ]
  },
  {
   "cell_type": "code",
   "execution_count": 31,
   "metadata": {},
   "outputs": [
    {
     "data": {
      "image/png": "[encoded data removed]",
      "text/plain": [
       "<Figure size 432x288 with 4 Axes>"
      ]
     },
     "metadata": {
      "needs_background": "light"
     },
     "output_type": "display_data"
    }
   ],
   "source": [
    "fig, axs = plt.subplots(2, 2)\n",
    "\n",
    "axs[0, 0].scatter(p1_arr[p1_cluster == 0, 0], p1_arr[p1_cluster == 0, 1],\n",
    "    s=50, c='lightgreen',marker='s', edgecolor='black',label='cluster 1')\n",
    "axs[0, 0].scatter(p1_arr[p1_cluster == 1, 0], p1_arr[p1_cluster == 1, 1],\n",
    "    s=50, c='orange',marker='o', edgecolor='black',label='cluster 2')\n",
    "axs[0, 0].scatter(p1_km.cluster_centers_[:, 0], p1_km.cluster_centers_[:, 1],\n",
    "    s=250, marker='*',c='red', edgecolor='black',label='centroids')\n",
    "axs[0, 0].set_title('P1: (SDNN, LF/HF)')\n",
    "\n",
    "\n",
    "axs[0, 1].scatter(p2_array[p2_cluster == 0, 0], p2_array[p2_cluster == 0, 1],\n",
    "    s=50, c='lightgreen',marker='s', edgecolor='black',label='cluster 1')\n",
    "axs[0, 1].scatter(p2_array[p2_cluster == 1, 0], p2_array[p2_cluster == 1, 1],\n",
    "    s=50, c='orange',marker='o', edgecolor='black',label='cluster 2')\n",
    "axs[0, 1].scatter(p2_km.cluster_centers_[:, 0], p2_km.cluster_centers_[:, 1],\n",
    "    s=250, marker='*',c='red', edgecolor='black',label='centroids')\n",
    "axs[0, 1].set_title('P2: (SDNN, LF/HF)')\n",
    "\n",
    "axs[1, 0].scatter(nw1_array[nw1_cluster == 0, 0], nw1_array[nw1_cluster == 0, 1],\n",
    "    s=50, c='lightgreen',marker='s', edgecolor='black',label='cluster 1')\n",
    "axs[1, 0].scatter(nw1_array[nw1_cluster == 1, 0], nw1_array[nw1_cluster == 1, 1],\n",
    "    s=50, c='orange',marker='o', edgecolor='black',label='cluster 2')\n",
    "axs[1, 0].scatter(nw1_km.cluster_centers_[:, 0], nw1_km.cluster_centers_[:, 1],\n",
    "    s=250, marker='*',c='red', edgecolor='black',label='centroids')\n",
    "axs[1, 0].set_title('NW1: (SDNN, LF/HF)')\n",
    "\n",
    "axs[1, 1].scatter(nw2_array[nw2_cluster == 0, 0], nw2_array[nw2_cluster == 0, 1],\n",
    "    s=50, c='lightgreen',marker='s', edgecolor='black',label='cluster 1')\n",
    "axs[1, 1].scatter(nw2_array[nw2_cluster == 1, 0], nw2_array[nw2_cluster == 1, 1],\n",
    "    s=50, c='orange',marker='o', edgecolor='black',label='cluster 2')\n",
    "axs[1, 1].scatter(nw2_km.cluster_centers_[:, 0], nw1_km.cluster_centers_[:, 1],\n",
    "    s=250, marker='*',c='red', edgecolor='black',label='centroids')\n",
    "axs[1, 1].set_title('NW1: (SDNN, LF/HF)')\n",
    "for ax in axs.flat:\n",
    "    ax.set(xlabel='x-label', ylabel='y-label')\n",
    "\n",
    "# Hide x labels and tick labels for top plots and y ticks for right plots.\n",
    "for ax in axs.flat:\n",
    "    ax.label_outer()"
   ]
  },
  {
   "cell_type": "code",
   "execution_count": null,
   "metadata": {},
   "outputs": [],
   "source": []
  }
 ],
 "metadata": {
  "kernelspec": {
   "display_name": "Python 3",
   "language": "python",
   "name": "python3"
  },
  "language_info": {
   "codemirror_mode": {
    "name": "ipython",
    "version": 3
   },
   "file_extension": ".py",
   "mimetype": "text/x-python",
   "name": "python",
   "nbconvert_exporter": "python",
   "pygments_lexer": "ipython3",
   "version": "3.7.5"
  }
 },
 "nbformat": 4,
 "nbformat_minor": 4
}
