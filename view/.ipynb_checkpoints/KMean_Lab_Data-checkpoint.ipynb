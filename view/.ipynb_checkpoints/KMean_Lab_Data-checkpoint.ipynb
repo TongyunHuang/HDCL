{
 "cells": [
  {
   "cell_type": "markdown",
   "metadata": {},
   "source": [
    "## Import Package"
   ]
  },
  {
   "cell_type": "code",
   "execution_count": 1,
   "metadata": {},
   "outputs": [
    {
     "ename": "ModuleNotFoundError",
     "evalue": "No module named 'process_data'",
     "output_type": "error",
     "traceback": [
      "\u001b[0;31m---------------------------------------------------------------------------\u001b[0m",
      "\u001b[0;31mModuleNotFoundError\u001b[0m                       Traceback (most recent call last)",
      "\u001b[0;32m<ipython-input-1-38b97fbceeb1>\u001b[0m in \u001b[0;36m<module>\u001b[0;34m\u001b[0m\n\u001b[1;32m      4\u001b[0m \u001b[0;32mimport\u001b[0m \u001b[0mnumpy\u001b[0m \u001b[0;32mas\u001b[0m \u001b[0mnp\u001b[0m\u001b[0;34m\u001b[0m\u001b[0;34m\u001b[0m\u001b[0m\n\u001b[1;32m      5\u001b[0m \u001b[0;31m# Self_define import file\u001b[0m\u001b[0;34m\u001b[0m\u001b[0;34m\u001b[0m\u001b[0;34m\u001b[0m\u001b[0m\n\u001b[0;32m----> 6\u001b[0;31m \u001b[0;32mimport\u001b[0m \u001b[0mprocess_data\u001b[0m \u001b[0;32mas\u001b[0m \u001b[0mpcs\u001b[0m\u001b[0;34m\u001b[0m\u001b[0;34m\u001b[0m\u001b[0m\n\u001b[0m",
      "\u001b[0;31mModuleNotFoundError\u001b[0m: No module named 'process_data'"
     ]
    }
   ],
   "source": [
    "# Python import library\n",
    "import matplotlib.pyplot as plt\n",
    "from sklearn.cluster import KMeans\n",
    "import numpy as np\n",
    "# Self_define import file\n",
    "import ../model/process_data as pcs\n"
   ]
  },
  {
   "cell_type": "markdown",
   "metadata": {},
   "source": [
    "## Process Data"
   ]
  },
  {
   "cell_type": "code",
   "execution_count": 14,
   "metadata": {},
   "outputs": [
    {
     "name": "stdout",
     "output_type": "stream",
     "text": [
      "60\n"
     ]
    }
   ],
   "source": [
    "# Call self-defined function to get data we want\n",
    "processor = pcs.Processor('302','nw1')\n",
    "trial = 'p1'\n",
    "# lfhf/ sdnn in diff dimensions\n",
    "lfhf_list = processor.getLfhf()\n",
    "sdnn_list = processor.getSdnn()\n",
    "sd_fq_array = processor.get_sdnn_lfhf_array()\n",
    "dict_3d = processor.get3d()\n",
    "# ThreadMill data\n",
    "threadmill_data = processor.getTreadMData()\n",
    "# Interval\n",
    "intervals = processor.getInterval()\n"
   ]
  },
  {
   "cell_type": "code",
   "execution_count": 18,
   "metadata": {},
   "outputs": [
    {
     "name": "stderr",
     "output_type": "stream",
     "text": [
      "/Users/tongyun/opt/anaconda3/envs/py37/lib/python3.7/site-packages/ipykernel_launcher.py:9: UserWarning: Matplotlib is currently using module://ipykernel.pylab.backend_inline, which is a non-GUI backend, so cannot show the figure.\n",
      "  if __name__ == '__main__':\n"
     ]
    },
    {
     "data": {
      "image/png": "[encoded data removed]",
      "text/plain": [
       "<Figure size 432x288 with 1 Axes>"
      ]
     },
     "metadata": {
      "needs_background": "light"
     },
     "output_type": "display_data"
    }
   ],
   "source": [
    "fig1 = plt.figure(1)\n",
    "ax1 = fig1.gca()\n",
    "plt.title('(sdnn, lf/hf)')\n",
    "plt.xlabel('sdnn')\n",
    "plt.ylabel('lk/hf')\n",
    "# X-axis is sdnn value, Y-axis is lfhf value\n",
    "plt.scatter(sdnn_list,lfhf_list, c='white', marker='o',\n",
    "   edgecolor='black', s=50 )\n",
    "fig1.show()"
   ]
  },
  {
   "cell_type": "markdown",
   "metadata": {},
   "source": [
    "## KMean Clustering and Visualization"
   ]
  },
  {
   "cell_type": "code",
   "execution_count": 19,
   "metadata": {},
   "outputs": [],
   "source": [
    "count = 2\n",
    "if trial == 'nw1' or trial == 'nw2':\n",
    "    count = 3\n",
    "else:\n",
    "    count = 1\n",
    "while count >0:\n",
    "    km_bia = KMeans(\n",
    "        n_clusters=2, init='random',\n",
    "        n_init=10, max_iter=300, \n",
    "        tol=1e-04, random_state=0\n",
    "    )\n",
    "    y_km_bia = km_bia.fit_predict(sd_fq_array)\n",
    "    if len(sd_fq_array[y_km_bia == 0]) > len(sd_fq_array[y_km_bia == 1]):\n",
    "        sd_fq_array = sd_fq_array[y_km_bia == 0]\n",
    "    else:\n",
    "        sd_fq_array = sd_fq_array[y_km_bia == 1]\n",
    "    count = count - 1\n",
    "    \n",
    "km = KMeans(\n",
    "    n_clusters=2, init='random',\n",
    "    n_init=10, max_iter=300, \n",
    "    tol=1e-04, random_state=0\n",
    ")\n",
    "y_km = km.fit_predict(sd_fq_array)"
   ]
  },
  {
   "cell_type": "code",
   "execution_count": 20,
   "metadata": {},
   "outputs": [
    {
     "data": {
      "image/png": "[encoded data removed]",
      "text/plain": [
       "<Figure size 432x288 with 1 Axes>"
      ]
     },
     "metadata": {
      "needs_background": "light"
     },
     "output_type": "display_data"
    }
   ],
   "source": [
    "# plot the 2 clusters\n",
    "plt.scatter(\n",
    "    sd_fq_array[y_km == 0, 0], sd_fq_array[y_km == 0, 1],\n",
    "    s=50, c='lightgreen',\n",
    "    marker='s', edgecolor='black',\n",
    "    label='cluster 1'\n",
    ")\n",
    "\n",
    "plt.scatter(\n",
    "    sd_fq_array[y_km == 1, 0], sd_fq_array[y_km == 1, 1],\n",
    "    s=50, c='orange',\n",
    "    marker='o', edgecolor='black',\n",
    "    label='cluster 2'\n",
    ")\n",
    "\n",
    "\n",
    "# plot the centroids\n",
    "plt.scatter(\n",
    "    km.cluster_centers_[:, 0], km.cluster_centers_[:, 1],\n",
    "    s=250, marker='*',\n",
    "    c='red', edgecolor='black',\n",
    "    label='centroids'\n",
    ")\n",
    "plt.title('(sdnn, lf/hf)')\n",
    "plt.xlabel('sdnn')\n",
    "plt.ylabel('lk/hf')\n",
    "plt.legend(scatterpoints=1)\n",
    "plt.grid()\n",
    "plt.show()"
   ]
  },
  {
   "cell_type": "markdown",
   "metadata": {},
   "source": [
    "## 3D Data Recollection and Plot"
   ]
  },
  {
   "cell_type": "code",
   "execution_count": 21,
   "metadata": {},
   "outputs": [
    {
     "ename": "ValueError",
     "evalue": "setting an array element with a sequence.",
     "output_type": "error",
     "traceback": [
      "\u001b[0;31m---------------------------------------------------------------------------\u001b[0m",
      "\u001b[0;31mTypeError\u001b[0m                                 Traceback (most recent call last)",
      "\u001b[0;31mTypeError\u001b[0m: float() argument must be a string or a number, not 'tuple'",
      "\nThe above exception was the direct cause of the following exception:\n",
      "\u001b[0;31mValueError\u001b[0m                                Traceback (most recent call last)",
      "\u001b[0;32m<ipython-input-21-cc21db80b749>\u001b[0m in \u001b[0;36m<module>\u001b[0;34m\u001b[0m\n\u001b[1;32m      5\u001b[0m \u001b[0;32mfor\u001b[0m \u001b[0mi\u001b[0m \u001b[0;32min\u001b[0m \u001b[0mrange\u001b[0m\u001b[0;34m(\u001b[0m \u001b[0mlength1\u001b[0m \u001b[0;34m)\u001b[0m\u001b[0;34m:\u001b[0m\u001b[0;34m\u001b[0m\u001b[0;34m\u001b[0m\u001b[0m\n\u001b[1;32m      6\u001b[0m     \u001b[0midx\u001b[0m \u001b[0;34m=\u001b[0m \u001b[0mdict_3d\u001b[0m\u001b[0;34m[\u001b[0m\u001b[0;34m(\u001b[0m \u001b[0msd_fq_array\u001b[0m\u001b[0;34m[\u001b[0m\u001b[0my_km\u001b[0m \u001b[0;34m==\u001b[0m \u001b[0;36m0\u001b[0m\u001b[0;34m,\u001b[0m \u001b[0;36m0\u001b[0m\u001b[0;34m]\u001b[0m\u001b[0;34m[\u001b[0m\u001b[0mi\u001b[0m\u001b[0;34m]\u001b[0m\u001b[0;34m,\u001b[0m \u001b[0msd_fq_array\u001b[0m\u001b[0;34m[\u001b[0m\u001b[0my_km\u001b[0m \u001b[0;34m==\u001b[0m \u001b[0;36m0\u001b[0m\u001b[0;34m,\u001b[0m \u001b[0;36m1\u001b[0m\u001b[0;34m]\u001b[0m\u001b[0;34m[\u001b[0m\u001b[0mi\u001b[0m\u001b[0;34m]\u001b[0m\u001b[0;34m)\u001b[0m\u001b[0;34m]\u001b[0m\u001b[0;34m\u001b[0m\u001b[0;34m\u001b[0m\u001b[0m\n\u001b[0;32m----> 7\u001b[0;31m     \u001b[0mY1\u001b[0m\u001b[0;34m[\u001b[0m\u001b[0mi\u001b[0m\u001b[0;34m]\u001b[0m \u001b[0;34m=\u001b[0m \u001b[0;34m[\u001b[0m\u001b[0msd_fq_array\u001b[0m\u001b[0;34m[\u001b[0m\u001b[0my_km\u001b[0m \u001b[0;34m==\u001b[0m \u001b[0;36m0\u001b[0m\u001b[0;34m,\u001b[0m \u001b[0;36m0\u001b[0m\u001b[0;34m]\u001b[0m\u001b[0;34m[\u001b[0m\u001b[0mi\u001b[0m\u001b[0;34m]\u001b[0m\u001b[0;34m,\u001b[0m \u001b[0msd_fq_array\u001b[0m\u001b[0;34m[\u001b[0m\u001b[0my_km\u001b[0m \u001b[0;34m==\u001b[0m \u001b[0;36m0\u001b[0m\u001b[0;34m,\u001b[0m \u001b[0;36m1\u001b[0m\u001b[0;34m]\u001b[0m\u001b[0;34m[\u001b[0m\u001b[0mi\u001b[0m\u001b[0;34m]\u001b[0m \u001b[0;34m,\u001b[0m\u001b[0midx\u001b[0m\u001b[0;34m]\u001b[0m\u001b[0;34m\u001b[0m\u001b[0;34m\u001b[0m\u001b[0m\n\u001b[0m\u001b[1;32m      8\u001b[0m     \u001b[0mcluster1_z\u001b[0m\u001b[0;34m.\u001b[0m\u001b[0mappend\u001b[0m\u001b[0;34m(\u001b[0m\u001b[0midx\u001b[0m\u001b[0;34m)\u001b[0m\u001b[0;34m\u001b[0m\u001b[0;34m\u001b[0m\u001b[0m\n\u001b[1;32m      9\u001b[0m \u001b[0;34m\u001b[0m\u001b[0m\n",
      "\u001b[0;31mValueError\u001b[0m: setting an array element with a sequence."
     ]
    }
   ],
   "source": [
    "# First cluster data\n",
    "cluster1_z = []\n",
    "length1 = len(sd_fq_array[y_km == 0, 0]) \n",
    "Y1 = np.zeros(shape=(length1,3))\n",
    "for i in range( length1 ):\n",
    "    idx = dict_3d[( sd_fq_array[y_km == 0, 0][i], sd_fq_array[y_km == 0, 1][i])]\n",
    "    Y1[i] = [sd_fq_array[y_km == 0, 0][i], sd_fq_array[y_km == 0, 1][i] ,idx]\n",
    "    cluster1_z.append(idx)\n",
    "\n",
    "# Second cluster data\n",
    "cluster2_z = []\n",
    "length2 = len(sd_fq_array[y_km == 1, 0]) \n",
    "Y2 = np.zeros(shape=(length2,3))\n",
    "for i in range( length2 ):\n",
    "    idx = dict_3d[( sd_fq_array[y_km == 1, 0][i], sd_fq_array[y_km == 1, 1][i])]\n",
    "    Y2[i] = [sd_fq_array[y_km == 1, 0][i], sd_fq_array[y_km == 1, 1][i],idx ]\n",
    "    cluster2_z.append(idx)\n",
    "    \n"
   ]
  },
  {
   "cell_type": "code",
   "execution_count": null,
   "metadata": {},
   "outputs": [],
   "source": [
    "ax = plt.axes(projection='3d')\n",
    "\n",
    "# Set axis label\n",
    "ax.set_xlabel('SDNN')\n",
    "ax.set_ylabel('LF/HF')\n",
    "ax.set_zlabel('Index')\n",
    "\n",
    "# Data for three-dimensional scattered points\n",
    "ax.scatter3D(Y1[:, 0], Y1[:, 1], Y1[:, 2], s=50, \n",
    "    marker='s', edgecolor='black',c='lightgreen',\n",
    "    label='cluster 1')\n",
    "\n",
    "ax.scatter3D(Y2[:, 0], Y2[:, 1], Y2[:, 2], s=50, \n",
    "    marker='o', edgecolor='black',c='orange',\n",
    "    label='cluster 2')\n",
    "\n",
    "# Modify following function to rotate\n",
    "ax.view_init(0, 270)\n",
    "\n",
    "\n"
   ]
  },
  {
   "cell_type": "markdown",
   "metadata": {},
   "source": [
    "## Find corresponding threadmill data"
   ]
  },
  {
   "cell_type": "code",
   "execution_count": null,
   "metadata": {},
   "outputs": [],
   "source": [
    "i = 0 #67410\n",
    "f = 134820\n",
    "ii= 17500\n",
    "ff= 32500\n",
    "\n",
    "num_figures = 3\n",
    "plt.figure()\n",
    "plt.subplot(num_figures,1,1)\n",
    "plt.title('Treadmill Speed')\n",
    "treadmill_data = processor.getTreadMData()\n",
    "plt.plot(treadmill_data.Time, treadmill_data.Speed)\n",
    "plt.xlim(0,160)\n",
    "  \n",
    "plt.subplot(num_figures,1,2)\n",
    "plt.title('LF/HF')\n",
    "length = len(intervals)\n",
    "#scale = [15+i[0]/1910 for i in intervals[0:-1]]\n",
    "scale = [i[0]/1925.9258 for i in intervals[0:-1]]\n",
    "# scale = [i[0]/3500 for i in intervals[0:-1]]\n",
    "#plt.plot(lf_hf_store,'*')\n",
    "plt.plot(scale, lfhf_list)\n",
    "\n",
    "# First cluster in lfhf\n",
    "scale1 = [scale[i] for i in cluster1_z]\n",
    "lfhf1 = [lfhf_list[i] for i in cluster1_z]\n",
    "plt.scatter(\n",
    "    scale1, lfhf1,\n",
    "    s=50, c='lightgreen',\n",
    "    marker='s', edgecolor='black',\n",
    "    label='cluster 1'\n",
    ")\n",
    "\n",
    "# Second cluster in lfhf\n",
    "scale2 = [scale[i] for i in cluster2_z]\n",
    "lfhf2 = [lfhf_list[i] for i in cluster2_z]\n",
    "plt.scatter(\n",
    "    scale2, lfhf2,\n",
    "    s=50, c='orange',\n",
    "    marker='o', edgecolor='black',\n",
    "    label='cluster 2'\n",
    ")\n",
    "plt.xlim(0,160)\n",
    "\n",
    "plt.subplot(num_figures,1,3)\n",
    "plt.title('SDNN')\n",
    "plt.plot(scale, sdnn_list)\n",
    "# First cluster in sdnn\n",
    "scale1 = [scale[i] for i in cluster1_z]\n",
    "sdnn1 = [sdnn_list[i] for i in cluster1_z]\n",
    "plt.scatter(\n",
    "    scale1, sdnn1,\n",
    "    s=50, c='lightgreen',\n",
    "    marker='s', edgecolor='black',\n",
    "    label='cluster 1'\n",
    ")\n",
    "\n",
    "# Second cluster in sdnn\n",
    "scale2 = [scale[i] for i in cluster2_z]\n",
    "sdnn2 = [sdnn_list[i] for i in cluster2_z]\n",
    "plt.scatter(\n",
    "    scale2, sdnn2,\n",
    "    s=50, c='orange',\n",
    "    marker='o', edgecolor='black',\n",
    "    label='cluster 2'\n",
    ")\n",
    "plt.xlim(0,160)\n",
    "plt.show()"
   ]
  },
  {
   "cell_type": "code",
   "execution_count": null,
   "metadata": {},
   "outputs": [],
   "source": []
  },
  {
   "cell_type": "code",
   "execution_count": null,
   "metadata": {},
   "outputs": [],
   "source": []
  },
  {
   "cell_type": "code",
   "execution_count": null,
   "metadata": {},
   "outputs": [],
   "source": []
  }
 ],
 "metadata": {
  "kernelspec": {
   "display_name": "Python 3",
   "language": "python",
   "name": "python3"
  },
  "language_info": {
   "codemirror_mode": {
    "name": "ipython",
    "version": 3
   },
   "file_extension": ".py",
   "mimetype": "text/x-python",
   "name": "python",
   "nbconvert_exporter": "python",
   "pygments_lexer": "ipython3",
   "version": "3.7.5"
  }
 },
 "nbformat": 4,
 "nbformat_minor": 4
}
