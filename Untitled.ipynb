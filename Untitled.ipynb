{
 "cells": [
  {
   "cell_type": "code",
   "execution_count": 1,
   "metadata": {},
   "outputs": [],
   "source": [
    "# Python import library\n",
    "import matplotlib.pyplot as plt\n",
    "from sklearn.cluster import KMeans\n",
    "import numpy as np\n",
    "# Self_define import file\n",
    "import process_data as pcs\n"
   ]
  },
  {
   "cell_type": "code",
   "execution_count": 2,
   "metadata": {},
   "outputs": [
    {
     "name": "stdout",
     "output_type": "stream",
     "text": [
      "35\n",
      "Finish getting data for: p1\n",
      "38\n",
      "Finish getting data for: p2\n",
      "60\n",
      "Finish getting data for: nw1\n",
      "33\n",
      "Finish getting data for: nw2\n"
     ]
    }
   ],
   "source": [
    "cumu_data = pcs.getCumulate()\n"
   ]
  },
  {
   "cell_type": "code",
   "execution_count": 3,
   "metadata": {},
   "outputs": [
    {
     "name": "stdout",
     "output_type": "stream",
     "text": [
      "<class 'numpy.ndarray'>\n"
     ]
    },
    {
     "name": "stderr",
     "output_type": "stream",
     "text": [
      "/Users/tongyun/opt/anaconda3/envs/py37/lib/python3.7/site-packages/ipykernel_launcher.py:9: UserWarning: Matplotlib is currently using module://ipykernel.pylab.backend_inline, which is a non-GUI backend, so cannot show the figure.\n",
      "  if __name__ == '__main__':\n"
     ]
    },
    {
     "data": {
      "image/png": "[encoded data removed]",
      "text/plain": [
       "<Figure size 432x288 with 1 Axes>"
      ]
     },
     "metadata": {
      "needs_background": "light"
     },
     "output_type": "display_data"
    }
   ],
   "source": [
    "print(type(cumu_data['sdnn']))\n",
    "fig1 = plt.figure(1)\n",
    "ax1 = fig1.gca()\n",
    "plt.title('(sdnn, lf/hf)')\n",
    "plt.xlabel('sdnn')\n",
    "plt.ylabel('lk/hf')\n",
    "# X-axis is sdnn value, Y-axis is lfhf value\n",
    "plt.scatter(cumu_data['sdnn'],cumu_data['lfhf'] )\n",
    "fig1.show()"
   ]
  },
  {
   "cell_type": "code",
   "execution_count": 4,
   "metadata": {},
   "outputs": [],
   "source": [
    "km = KMeans(\n",
    "    n_clusters=2, init='random',\n",
    "    n_init=10, max_iter=300, \n",
    "    tol=1e-04, random_state=0\n",
    ")\n",
    "sd_fq_array = cumu_data['sd_lf']\n",
    "y_km = km.fit_predict(sd_fq_array)"
   ]
  },
  {
   "cell_type": "code",
   "execution_count": 5,
   "metadata": {},
   "outputs": [],
   "source": [
    "# # plot the 2 clusters\n",
    "# plt.scatter(\n",
    "#     sd_fq_array[y_km == 0, 0], sd_fq_array[y_km == 0, 1],\n",
    "#     s=50, c='lightgreen',\n",
    "#     marker='s', edgecolor='black',\n",
    "#     label='cluster 1'\n",
    "# )\n",
    "\n",
    "# plt.scatter(\n",
    "#     sd_fq_array[y_km == 1, 0], sd_fq_array[y_km == 1, 1],\n",
    "#     s=50, c='orange',\n",
    "#     marker='o', edgecolor='black',\n",
    "#     label='cluster 2'\n",
    "# )\n",
    "\n",
    "\n",
    "# # plot the centroids\n",
    "# plt.scatter(\n",
    "#     km.cluster_centers_[:, 0], km.cluster_centers_[:, 1],\n",
    "#     s=250, marker='*',\n",
    "#     c='red', edgecolor='black',\n",
    "#     label='centroids'\n",
    "# )\n",
    "# plt.title('(sdnn, lf/hf)')\n",
    "# plt.xlabel('sdnn')\n",
    "# plt.ylabel('lk/hf')\n",
    "# plt.legend(scatterpoints=1)\n",
    "# plt.grid()\n",
    "# plt.show()"
   ]
  },
  {
   "cell_type": "code",
   "execution_count": 6,
   "metadata": {},
   "outputs": [],
   "source": [
    "if len(sd_fq_array[y_km == 0]) > len(sd_fq_array[y_km == 1]):\n",
    "    sd_fq_array = sd_fq_array[y_km == 0]\n",
    "else:\n",
    "    sd_fq_array = sd_fq_array[y_km == 1]\n",
    "        \n",
    "km2 = KMeans(\n",
    "    n_clusters=2, init='random',\n",
    "    n_init=10, max_iter=300, \n",
    "    tol=1e-04, random_state=0\n",
    ")\n",
    "y_km2 = km2.fit_predict(sd_fq_array)\n",
    "\n",
    "if len(sd_fq_array[y_km2 == 0]) > len(sd_fq_array[y_km2 == 1]):\n",
    "    sd_fq_array = sd_fq_array[y_km2 == 0]\n",
    "else:\n",
    "    sd_fq_array = sd_fq_array[y_km2 == 1]\n",
    "        \n",
    "km3 = KMeans(\n",
    "    n_clusters=2, init='random',\n",
    "    n_init=10, max_iter=300, \n",
    "    tol=1e-04, random_state=0\n",
    ")\n",
    "y_km3 = km3.fit_predict(sd_fq_array)"
   ]
  },
  {
   "cell_type": "code",
   "execution_count": 7,
   "metadata": {},
   "outputs": [
    {
     "data": {
      "image/png": "[encoded data removed]",
      "text/plain": [
       "<Figure size 432x288 with 1 Axes>"
      ]
     },
     "metadata": {
      "needs_background": "light"
     },
     "output_type": "display_data"
    }
   ],
   "source": [
    "# plot the 2 clusters\n",
    "plt.scatter(\n",
    "    sd_fq_array[y_km3 == 0, 0], sd_fq_array[y_km3 == 0, 1],\n",
    "    s=50, c='lightgreen',\n",
    "    marker='s', edgecolor='black',\n",
    "    label='cluster 1'\n",
    ")\n",
    "\n",
    "plt.scatter(\n",
    "    sd_fq_array[y_km3 == 1, 0], sd_fq_array[y_km3 == 1, 1],\n",
    "    s=50, c='orange',\n",
    "    marker='o', edgecolor='black',\n",
    "    label='cluster 2'\n",
    ")\n",
    "\n",
    "\n",
    "# plot the centroids\n",
    "plt.scatter(\n",
    "    km3.cluster_centers_[:, 0], km3.cluster_centers_[:, 1],\n",
    "    s=250, marker='*',\n",
    "    c='red', edgecolor='black',\n",
    "    label='centroids'\n",
    ")\n",
    "plt.title('(sdnn, lf/hf)')\n",
    "plt.xlabel('sdnn')\n",
    "plt.ylabel('lk/hf')\n",
    "plt.legend(scatterpoints=1)\n",
    "plt.grid()\n",
    "plt.show()"
   ]
  },
  {
   "cell_type": "code",
   "execution_count": 8,
   "metadata": {},
   "outputs": [],
   "source": [
    "# First cluster data\n",
    "cluster1_z = []\n",
    "dict_3d = cumu_data['3d_dict']\n",
    "length1 = len(sd_fq_array[y_km3 == 0, 0]) \n",
    "Y1 = np.zeros(shape=(length1,3))\n",
    "for i in range( length1 ):\n",
    "    idx = dict_3d[( sd_fq_array[y_km3 == 0, 0][i], sd_fq_array[y_km3 == 0, 1][i])]\n",
    "    Y1[i] = [sd_fq_array[y_km3 == 0, 0][i], sd_fq_array[y_km3 == 0, 1][i] ,idx]\n",
    "    cluster1_z.append(idx)\n",
    "\n",
    "# Second cluster data\n",
    "cluster2_z = []\n",
    "length2 = len(sd_fq_array[y_km3 == 1, 0]) \n",
    "Y2 = np.zeros(shape=(length2,3))\n",
    "for i in range( length2 ):\n",
    "    idx = dict_3d[( sd_fq_array[y_km3 == 1, 0][i], sd_fq_array[y_km3 == 1, 1][i])]\n",
    "    Y2[i] = [sd_fq_array[y_km3 == 1, 0][i], sd_fq_array[y_km3 == 1, 1][i],idx ]\n",
    "    cluster2_z.append(idx)"
   ]
  },
  {
   "cell_type": "code",
   "execution_count": 9,
   "metadata": {},
   "outputs": [
    {
     "data": {
      "image/png": "[encoded data removed]",
      "text/plain": [
       "<Figure size 432x288 with 1 Axes>"
      ]
     },
     "metadata": {
      "needs_background": "light"
     },
     "output_type": "display_data"
    }
   ],
   "source": [
    "ax = plt.axes(projection='3d')\n",
    "\n",
    "# Set axis label\n",
    "ax.set_xlabel('SDNN')\n",
    "ax.set_ylabel('LF/HF')\n",
    "ax.set_zlabel('Index')\n",
    "\n",
    "# Data for three-dimensional scattered points\n",
    "ax.scatter3D(Y1[:, 0], Y1[:, 1], Y1[:, 2], s=50, \n",
    "    marker='s', edgecolor='black',c='lightgreen',\n",
    "    label='cluster 1')\n",
    "\n",
    "ax.scatter3D(Y2[:, 0], Y2[:, 1], Y2[:, 2], s=50, \n",
    "    marker='o', edgecolor='black',c='orange',\n",
    "    label='cluster 2')\n",
    "\n",
    "# Modify following function to rotate\n",
    "ax.view_init(0, 270)"
   ]
  },
  {
   "cell_type": "code",
   "execution_count": null,
   "metadata": {},
   "outputs": [],
   "source": [
    "i = 0 #67410\n",
    "f = 134820\n",
    "ii= 17500\n",
    "ff= 32500\n",
    "\n",
    "num_figures = 3\n",
    "plt.figure()\n",
    "plt.subplot(num_figures,1,1)\n",
    "plt.title('Treadmill Speed')\n",
    "processor = \n",
    "treadmill_data = processor.getTreadMData()\n",
    "plt.plot(treadmill_data.Time, treadmill_data.Speed)\n",
    "plt.xlim(0,160)\n",
    "  \n",
    "plt.subplot(num_figures,1,2)\n",
    "plt.title('LF/HF')\n",
    "length = len(intervals)\n",
    "#scale = [15+i[0]/1910 for i in intervals[0:-1]]\n",
    "scale = [i[0]/1925.9258 for i in intervals[0:-1]]\n",
    "# scale = [i[0]/3500 for i in intervals[0:-1]]\n",
    "#plt.plot(lf_hf_store,'*')\n",
    "plt.plot(scale, lfhf_list)\n",
    "\n",
    "# First cluster in lfhf\n",
    "scale1 = [scale[i] for i in cluster1_z]\n",
    "lfhf1 = [lfhf_list[i] for i in cluster1_z]\n",
    "plt.scatter(\n",
    "    scale1, lfhf1,\n",
    "    s=50, c='lightgreen',\n",
    "    marker='s', edgecolor='black',\n",
    "    label='cluster 1'\n",
    ")\n",
    "\n",
    "# Second cluster in lfhf\n",
    "scale2 = [scale[i] for i in cluster2_z]\n",
    "lfhf2 = [lfhf_list[i] for i in cluster2_z]\n",
    "plt.scatter(\n",
    "    scale2, lfhf2,\n",
    "    s=50, c='orange',\n",
    "    marker='o', edgecolor='black',\n",
    "    label='cluster 2'\n",
    ")\n",
    "plt.xlim(0,160)\n",
    "\n",
    "plt.subplot(num_figures,1,3)\n",
    "plt.title('SDNN')\n",
    "plt.plot(scale, sdnn_list)\n",
    "# First cluster in sdnn\n",
    "scale1 = [scale[i] for i in cluster1_z]\n",
    "sdnn1 = [sdnn_list[i] for i in cluster1_z]\n",
    "plt.scatter(\n",
    "    scale1, sdnn1,\n",
    "    s=50, c='lightgreen',\n",
    "    marker='s', edgecolor='black',\n",
    "    label='cluster 1'\n",
    ")\n",
    "\n",
    "# Second cluster in sdnn\n",
    "scale2 = [scale[i] for i in cluster2_z]\n",
    "sdnn2 = [sdnn_list[i] for i in cluster2_z]\n",
    "plt.scatter(\n",
    "    scale2, sdnn2,\n",
    "    s=50, c='orange',\n",
    "    marker='o', edgecolor='black',\n",
    "    label='cluster 2'\n",
    ")\n",
    "plt.xlim(0,160)\n",
    "plt.show()"
   ]
  },
  {
   "cell_type": "code",
   "execution_count": null,
   "metadata": {},
   "outputs": [],
   "source": []
  }
 ],
 "metadata": {
  "kernelspec": {
   "display_name": "Python 3",
   "language": "python",
   "name": "python3"
  },
  "language_info": {
   "codemirror_mode": {
    "name": "ipython",
    "version": 3
   },
   "file_extension": ".py",
   "mimetype": "text/x-python",
   "name": "python",
   "nbconvert_exporter": "python",
   "pygments_lexer": "ipython3",
   "version": "3.7.5"
  }
 },
 "nbformat": 4,
 "nbformat_minor": 4
}
