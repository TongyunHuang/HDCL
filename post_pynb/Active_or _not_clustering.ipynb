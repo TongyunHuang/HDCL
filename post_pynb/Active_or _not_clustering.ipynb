{
 "cells": [
  {
   "cell_type": "markdown",
   "metadata": {},
   "source": [
    "## Import Package"
   ]
  },
  {
   "cell_type": "code",
   "execution_count": 1,
   "metadata": {},
   "outputs": [],
   "source": [
    "# Python import library\n",
    "import matplotlib.pyplot as plt\n",
    "from sklearn.cluster import KMeans\n",
    "import numpy as np\n",
    "# Self_define import file\n",
    "import process_data as pcs\n"
   ]
  },
  {
   "cell_type": "markdown",
   "metadata": {},
   "source": [
    "## Process Data"
   ]
  },
  {
   "cell_type": "code",
   "execution_count": 2,
   "metadata": {},
   "outputs": [],
   "source": [
    "processor = pcs.Processor()\n",
    "lfhf_list = processor.getLfhf()\n",
    "sdnn_list = processor.getSdnn()\n",
    "sd_fq_array = processor.get_sdnn_lfhf_array()\n",
    "dict_3d = processor.get3d()\n",
    "matlabEMG = processor.getEMG()"
   ]
  },
  {
   "cell_type": "markdown",
   "metadata": {},
   "source": [
    "### Reference\n",
    "- A threshold level for activity was identified for EMG by measuring the standard deviation of the signal during an obvious period of inactivity (usually during early swing phase for this muscle). \n",
    "- The threshold level was set at two times this standard deviation. \n",
    "- The time of EMG offset was identified as the intersection of the envelope signal with the threshold level. \n",
    "- For cases in which there were multiple intersections within a burst, the last intersection was used. \n",
    "\n",
    "*Roberts & Gabaldon (2008) Roberts TJ, Gabaldon AM. Interpreting muscle function from EMG: lessons learned from direct measurements of muscle force. Oxford Journals. 2008;48:312–320.*"
   ]
  },
  {
   "cell_type": "code",
   "execution_count": 7,
   "metadata": {},
   "outputs": [
    {
     "data": {
      "text/plain": [
       "[<matplotlib.lines.Line2D at 0x7fe8c50ae410>]"
      ]
     },
     "execution_count": 7,
     "metadata": {},
     "output_type": "execute_result"
    },
    {
     "data": {
      "image/png": "[encoded data removed]",
      "text/plain": [
       "<Figure size 432x288 with 1 Axes>"
      ]
     },
     "metadata": {
      "needs_background": "light"
     },
     "output_type": "display_data"
    }
   ],
   "source": [
    "plt.title('Biceps Femoris') \n",
    "# plt.plot(2,1,1) \n",
    "plt.title('L emg')\n",
    "plt.plot(matlabEMG['data_new'][:,0])\n"
   ]
  },
  {
   "cell_type": "code",
   "execution_count": 8,
   "metadata": {},
   "outputs": [
    {
     "name": "stdout",
     "output_type": "stream",
     "text": [
      "[0.00624461 0.00635896 0.00647393 ... 0.00263509 0.00265073 0.00252834]\n"
     ]
    }
   ],
   "source": [
    "print(matlabEMG['data_new'][:,0])"
   ]
  },
  {
   "cell_type": "code",
   "execution_count": 26,
   "metadata": {},
   "outputs": [
    {
     "name": "stdout",
     "output_type": "stream",
     "text": [
      "[0.00624461 0.00635896 0.00647393 ... 0.00353205 0.00478646 0.00468903]\n"
     ]
    }
   ],
   "source": [
    "inactive = matlabEMG['data_new'][:,0][0:10000]\n",
    "print(inactive)"
   ]
  },
  {
   "cell_type": "code",
   "execution_count": 35,
   "metadata": {},
   "outputs": [
    {
     "name": "stdout",
     "output_type": "stream",
     "text": [
      "0.015247794729985557\n"
     ]
    }
   ],
   "source": [
    "std_V = np.std(inactive)\n",
    "thold = std_V*5\n",
    "print(thold)\n",
    "# thold = 0.2"
   ]
  },
  {
   "cell_type": "code",
   "execution_count": 36,
   "metadata": {},
   "outputs": [],
   "source": [
    "simpli_list = []\n",
    "scale = []\n",
    "for i in range(len(matlabEMG['data_new'][:,0])):\n",
    "    scale.append(i)\n",
    "    if matlabEMG['data_new'][:,0][i] > thold:\n",
    "        simpli_list.append(1)\n",
    "    else:\n",
    "        simpli_list.append(0)"
   ]
  },
  {
   "cell_type": "code",
   "execution_count": 41,
   "metadata": {},
   "outputs": [
    {
     "data": {
      "text/plain": [
       "(30000.0, 35000.0)"
      ]
     },
     "execution_count": 41,
     "metadata": {},
     "output_type": "execute_result"
    },
    {
     "data": {
      "image/png": "[encoded data removed]",
      "text/plain": [
       "<Figure size 432x288 with 1 Axes>"
      ]
     },
     "metadata": {
      "needs_background": "light"
     },
     "output_type": "display_data"
    }
   ],
   "source": [
    "plt.title('Biceps Femoris') \n",
    "# plt.plot(2,1,1) \n",
    "plt.title('L emg')\n",
    "plt.plot(matlabEMG['data_new'][:,0])\n",
    "plt.plot(scale, simpli_list)\n",
    "plt.xlim(30000,35000)"
   ]
  },
  {
   "cell_type": "code",
   "execution_count": null,
   "metadata": {},
   "outputs": [],
   "source": []
  }
 ],
 "metadata": {
  "kernelspec": {
   "display_name": "Python 3",
   "language": "python",
   "name": "python3"
  },
  "language_info": {
   "codemirror_mode": {
    "name": "ipython",
    "version": 3
   },
   "file_extension": ".py",
   "mimetype": "text/x-python",
   "name": "python",
   "nbconvert_exporter": "python",
   "pygments_lexer": "ipython3",
   "version": "3.7.5"
  }
 },
 "nbformat": 4,
 "nbformat_minor": 4
}
