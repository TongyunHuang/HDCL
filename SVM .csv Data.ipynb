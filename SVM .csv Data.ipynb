{
 "cells": [
  {
   "cell_type": "markdown",
   "metadata": {},
   "source": [
    "## Import Package"
   ]
  },
  {
   "cell_type": "code",
   "execution_count": 1,
   "metadata": {},
   "outputs": [],
   "source": [
    "import numpy as np\n",
    "import matplotlib.pyplot as plt\n",
    "from matplotlib import style # for visualization\n",
    "style.use(\"ggplot\")\n",
    "from sklearn import svm\n",
    "import pandas as pd\n",
    "import utils as u"
   ]
  },
  {
   "cell_type": "markdown",
   "metadata": {},
   "source": [
    "## Import data from CSV file"
   ]
  },
  {
   "cell_type": "code",
   "execution_count": 2,
   "metadata": {},
   "outputs": [],
   "source": [
    "df = u.load_data('/OA_2019_302_NW1_Rep_1.2.csv' )\n",
    "df2 = u.load_data('/OA_2019_302_NW2_Rep_1.5.csv')\n",
    "df3 = u.load_data('/OA_2019_302_P1_Rep_1.3.csv')\n",
    "df4 = u.load_data('/OA_2019_302_P2_Rep_1.4.csv')\n",
    "# df = pd.read_csv (r'./test.csv')\n",
    "\n",
    "nw1 = u.delsys_cleanup(df)\n",
    "nw2 = u.delsys_cleanup(df2)\n",
    "p1 = u.delsys_cleanup(df3)\n",
    "p2 = u.delsys_cleanup(df4)"
   ]
  },
  {
   "cell_type": "code",
   "execution_count": null,
   "metadata": {},
   "outputs": [],
   "source": [
    "data_dir_treadmill = 'Treadmill data_trial1-4'\n",
    "file3_clientinfo = 'OA_302_P1_CLIENTINFO'\n",
    "file3_cueing = 'OA_302_N1_CUEING'\n",
    "file3_gaitcycles = 'OA_201_N1_GAITCYCLES'\n",
    "file3_rawdata = '/OA_302_P1_RAWDATA.csv'\n",
    "\n",
    "treadmill_data = load_data(file3_rawdata, data_dir_treadmill)\n",
    "\n",
    "data_dir_fNIRS = 'fNIRS'\n",
    "file3_fNIRS = '/OA_FNIRS_2019_WALK_306_oxydata.txt'\n",
    "fNIRS = pd.read_csv(data_dir_fNIRS+file3_fNIRS,sep='\\t')"
   ]
  }
 ],
 "metadata": {
  "kernelspec": {
   "display_name": "Python 3",
   "language": "python",
   "name": "python3"
  },
  "language_info": {
   "codemirror_mode": {
    "name": "ipython",
    "version": 3
   },
   "file_extension": ".py",
   "mimetype": "text/x-python",
   "name": "python",
   "nbconvert_exporter": "python",
   "pygments_lexer": "ipython3",
   "version": "3.7.5"
  }
 },
 "nbformat": 4,
 "nbformat_minor": 4
}
